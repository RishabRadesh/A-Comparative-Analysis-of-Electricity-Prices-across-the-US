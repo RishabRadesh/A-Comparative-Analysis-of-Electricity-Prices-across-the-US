pip install dash pandas plotly
import pandas as pd
# Load the dataset
data_path = 'avgprice_annual.xlsx' dataset = pd.read_excel(data_path)
import plotly.express as px
#fig_sector_avg = px.bar(dataset, x="Industry Sector Category", y=["Residential", "Commercial", "Industrial", "Transportation"],
fig_sector_avg = px.bar( dataset,
#title="Average Price by Sector")
x="Industry Sector Category",
y=["Residential", "Commercial", "Industrial", "Transportation"], title="Average Price by Sector",
# Set specific color for each sector for better contrast and readability color_discrete_sequence=px.colors.qualitative.Bold
) fig_sector_avg.show()
dataset['Average Price'] = dataset[["Residential", "Commercial", "Industrial", "Transportation"]].mean(axis=1) #fig_state_comparison = px.bar(dataset.sort_values('Average Price'), x='Average Price', y='State', orientation='h',
                              #title="State-wise Average Price Comparison")
#fig_state_comparison.update_yaxes(range=[0, 40])
# Assuming 'dataset' is your DataFrame with the correct structure and 'Average Price' already calculated
fig_state_comparison = px.bar(
dataset.sort_values('Average Price'),
x='Average Price',
y='State',
orientation='h',
title="State-wise Average Price Comparison",
color='Average Price', # This will color the bars based on the value of 'Average Price' color_continuous_scale=px.colors.sequential.Viridis # This is an example of a more vivid color scale
)
# Show the figure
fig_state_comparison.show()
fig1 = px.bar(dataset, x='Industry Sector Category', y=['Residential', 'Commercial', 'Industrial', 'Transportation'], barmode='group') 
fig1.show()
dataset['Average'] = dataset[['Residential', 'Commercial', 'Industrial', 'Transportation']].mean(axis=1) fig2 = px.box(dataset, y='Average', labels={'Average': 'Avg Price'})
fig2.update_yaxes(range=[0, 40])
fig2.show()
# Use pivot_table with aggregation to handle duplicate entries
heatmap_data = dataset.pivot_table(index='State', columns='Industry Sector Category', values='Total', aggfunc='mean') # Now, plotting the heatmap
fig3 = px.imshow(heatmap_data, labels=dict(x="Sector", y="State", color="Price"), aspect="auto")
# Displaying the figure
fig3.show()
fig5 = px.violin(dataset, y=['Residential', 'Commercial', 'Industrial', 'Transportation'], box=True, points="all") fig5.update_yaxes(range=[0, 50])
fig5.show()
fig6 = px.scatter(dataset, x='Residential', y='Commercial', color='State') 
fig6.update_yaxes(range=[0, 50])
fig_violin = px.violin(dataset, y=["Residential", "Commercial", "Industrial", "Transportation"], 
box=True, points="all", title="Sector Price Distribution")
from dash import Dash, html, dcc, Input, Output
import plotly.express as px # Assuming you use Plotly Express for your figures
# Initialize the Dash app
app = Dash(__name__)
# App layout
app.layout = html.Div([
html.H1("Electricity Price Dashboard", style={'text-align': 'center'}), dcc.Dropdown(id='state-dropdown',
options=[{'label': state, 'value': state} for state in dataset['State'].unique()],
value=dataset['State'].unique()[0], style={'width': '50%', 'margin': '0 auto'}), # First graph in its own row, styled for better appearance html.Div([dcc.Graph(id='sector-price-line-chart')], style={'width': '100%'}),
# Subsequent rows with two graphs each, styled for better appearance
html.Div([
html.Div([dcc.Graph(figure=fig_sector_avg)], style={'display': 'inline-block', 'width': '50%'}), html.Div([dcc.Graph(figure=fig_state_comparison)], style={'display': 'inline-block', 'width': '50%'})
]), html.Div([
html.Div([dcc.Graph(figure=fig6)], style={'display': 'inline-block', 'width': '50%'}),
html.Div([dcc.Graph(figure=fig3)], style={'display': 'inline-block', 'width': '50%'}) ]),
html.Div([
html.Div([dcc.Graph(figure=fig2)], style={'display': 'inline-block', 'width': '50%'}), html.Div([dcc.Graph(figure=fig5)], style={'display': 'inline-block', 'width': '50%'})
]), ])
# Callback to update the line chart with enhanced appearance
@app.callback(
Output('sector-price-line-chart', 'figure'), Input('state-dropdown', 'value')
)
def update_line_chart(selected_state):
filtered_data = dataset[dataset['State'] == selected_state]
fig = px.line(filtered_data, x="Year", y=["Residential", "Commercial", "Industrial", "Transportation"],
title=f"Price Trends by Sector for {selected_state}") # Improve graph aesthetics
fig.update_layout( template='plotly_white', autosize=True,
margin=dict(l=40, r=40, t=40, b=40), font=dict(size=12),
)
return fig
# Run the app
if __name__ == '__main__':
app.run_server(debug=True, port=8057, jupyter_mode="external") # Use any available port
